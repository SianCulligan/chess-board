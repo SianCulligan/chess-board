{
 "metadata": {
  "language_info": {
   "codemirror_mode": {
    "name": "ipython",
    "version": 3
   },
   "file_extension": ".py",
   "mimetype": "text/x-python",
   "name": "python",
   "nbconvert_exporter": "python",
   "pygments_lexer": "ipython3",
   "version": "3.9.0-final"
  },
  "orig_nbformat": 2,
  "kernelspec": {
   "name": "python3",
   "display_name": "Python 3.9.0 64-bit ('.venv': venv)",
   "metadata": {
    "interpreter": {
     "hash": "93c24e75e48f4ae2f4317d007a27bae1489ebedaaba0696a71f6ac3f249ac881"
    }
   }
  }
 },
 "nbformat": 4,
 "nbformat_minor": 2,
 "cells": [
  {
   "cell_type": "code",
   "execution_count": null,
   "metadata": {},
   "outputs": [],
   "source": [
    "%matplotlib inline\n",
    "import numpy as np\n",
    "import matplotlib.pyplot as plt"
   ]
  },
  {
   "cell_type": "code",
   "execution_count": null,
   "metadata": {},
   "outputs": [],
   "source": [
    "class Board:\n",
    "    #assign reusable color variables\n",
    "    white = (1, 1, 1)\n",
    "    black = (0, 0, 0)\n",
    "    red = (.75, 0, 0)\n",
    "    blue = (0, 0, .5)\n",
    "    rows = 8\n",
    "    columns = 8\n",
    "    \n",
    "\n",
    "\n",
    "    def __init__(self, red_row = [], blue_row = [], red_col = [], blue_col = []):\n",
    "        self.red_row = red_row\n",
    "        self.blue_row = blue_row\n",
    "        self.red_col = red_col\n",
    "        self.blue_col = blue_col\n",
    "        self.grid = np.zeros((columns, rows, 3))\n",
    "        for i in range(rows):\n",
    "            if i % 2 == 0:\n",
    "                for val in range(columns):\n",
    "                    if val % 2 == 0:\n",
    "                        self.grid[i][val] = white\n",
    "                    else:\n",
    "                        self.grid[i][val] = black\n",
    "            else :\n",
    "                for val in range(columns):\n",
    "                    if val % 2 == 0:\n",
    "                        self.grid[i][val] = black\n",
    "                    else:\n",
    "                        self.grid[i][val] = white        \n",
    "\n",
    "\n",
    "# add_red method that accepts a row and column as input which colors corresponding cell.\n",
    "    def add_red(self, row, col):\n",
    "        self.red_row = row\n",
    "        self.red_col = col\n",
    "        self.grid[row][col] = self.red\n",
    "\n",
    "\n",
    "\n",
    "# add_blue method that accepts a row and column as input which colors corresponding cell.\n",
    "    def add_blue(self, row, col):\n",
    "#         blue_locator = [row][col]\n",
    "        self.blue_row = row\n",
    "        self.blue_col = col\n",
    "        self.grid[row][col] = self.blue\n",
    "\n",
    "\n",
    "# render method that displays the chess board on screen with red and blue shown in correct locations\n",
    "    def render(self):\n",
    "        plt.imshow(self.grid)\n",
    "        \n",
    "# is_under_attack method that return boolean if red is under attack by a blue piece horizontally, vertically or diagonally\n",
    "    def is_under_attack(self):\n",
    "        row_dif = 0\n",
    "        col_dif = 0\n",
    "      \n",
    "        #queens on same row OR same column should be “under attack”\n",
    "        if self.red_row == self.blue_row or self.red_col == self.blue_col\n",
    "            return True\n",
    "\n",
    "        #queens on same diagonal should be “under attack”   \n",
    "        elif self.red_row != self.blue_row:\n",
    "            row_dif = self.blue_row - self.red_row\n",
    "            col_dif = self.blue_col - self.red_col\n",
    "            if abs(row_dif) == abs(col_dif):\n",
    "                return True            \n",
    "            else: \n",
    "                continue\n",
    "\n",
    "        #queens with any other coordinates should NOT be “under attack”\n",
    "        else: \n",
    "            return False"
   ]
  },
  {
   "cell_type": "code",
   "execution_count": null,
   "metadata": {},
   "outputs": [],
   "source": [
    "new_board = Board()\n",
    "new_board.add_blue(0,0)\n",
    "new_board.add_red(7,7)\n",
    "\n",
    "new_board.render()\n",
    "\n",
    "assert board.is_under_attack()\n",
    "print('True')"
   ]
  }
 ]
}